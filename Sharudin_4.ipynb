{
  "nbformat": 4,
  "nbformat_minor": 0,
  "metadata": {
    "colab": {
      "provenance": [],
      "gpuType": "T4"
    },
    "kernelspec": {
      "name": "python3",
      "display_name": "Python 3"
    },
    "language_info": {
      "name": "python"
    },
    "accelerator": "GPU"
  },
  "cells": [
    {
      "cell_type": "code",
      "source": [
        "import pandas as pd\n",
        "import numpy as np\n",
        "import matplotlib.pyplot as plt\n",
        "from sklearn.preprocessing import MinMaxScaler\n",
        "from keras.models import Sequential\n",
        "from keras.layers import SimpleRNN, LSTM, Dropout, Dense"
      ],
      "metadata": {
        "id": "EF8g8JlUKGJ3"
      },
      "execution_count": 3,
      "outputs": []
    },
    {
      "cell_type": "code",
      "source": [
        "df = pd.read_csv('data.txt',usecols=['<CLOSE>'], sep=\";\")\n",
        "df"
      ],
      "metadata": {
        "colab": {
          "base_uri": "https://localhost:8080/",
          "height": 423
        },
        "id": "kHHR5qh2KJmq",
        "outputId": "940ece1e-64fb-4f3a-9e59-c3db40236014"
      },
      "execution_count": 4,
      "outputs": [
        {
          "output_type": "execute_result",
          "data": {
            "text/plain": [
              "       <CLOSE>\n",
              "0      59.2343\n",
              "1      59.1927\n",
              "2      59.2332\n",
              "3      59.2332\n",
              "4      59.4288\n",
              "...        ...\n",
              "43398  74.0483\n",
              "43399  74.1147\n",
              "43400  74.1308\n",
              "43401  74.0699\n",
              "43402  74.1201\n",
              "\n",
              "[43403 rows x 1 columns]"
            ],
            "text/html": [
              "\n",
              "  <div id=\"df-5cdd3be0-b001-4620-92f9-fde943a4dd2e\" class=\"colab-df-container\">\n",
              "    <div>\n",
              "<style scoped>\n",
              "    .dataframe tbody tr th:only-of-type {\n",
              "        vertical-align: middle;\n",
              "    }\n",
              "\n",
              "    .dataframe tbody tr th {\n",
              "        vertical-align: top;\n",
              "    }\n",
              "\n",
              "    .dataframe thead th {\n",
              "        text-align: right;\n",
              "    }\n",
              "</style>\n",
              "<table border=\"1\" class=\"dataframe\">\n",
              "  <thead>\n",
              "    <tr style=\"text-align: right;\">\n",
              "      <th></th>\n",
              "      <th>&lt;CLOSE&gt;</th>\n",
              "    </tr>\n",
              "  </thead>\n",
              "  <tbody>\n",
              "    <tr>\n",
              "      <th>0</th>\n",
              "      <td>59.2343</td>\n",
              "    </tr>\n",
              "    <tr>\n",
              "      <th>1</th>\n",
              "      <td>59.1927</td>\n",
              "    </tr>\n",
              "    <tr>\n",
              "      <th>2</th>\n",
              "      <td>59.2332</td>\n",
              "    </tr>\n",
              "    <tr>\n",
              "      <th>3</th>\n",
              "      <td>59.2332</td>\n",
              "    </tr>\n",
              "    <tr>\n",
              "      <th>4</th>\n",
              "      <td>59.4288</td>\n",
              "    </tr>\n",
              "    <tr>\n",
              "      <th>...</th>\n",
              "      <td>...</td>\n",
              "    </tr>\n",
              "    <tr>\n",
              "      <th>43398</th>\n",
              "      <td>74.0483</td>\n",
              "    </tr>\n",
              "    <tr>\n",
              "      <th>43399</th>\n",
              "      <td>74.1147</td>\n",
              "    </tr>\n",
              "    <tr>\n",
              "      <th>43400</th>\n",
              "      <td>74.1308</td>\n",
              "    </tr>\n",
              "    <tr>\n",
              "      <th>43401</th>\n",
              "      <td>74.0699</td>\n",
              "    </tr>\n",
              "    <tr>\n",
              "      <th>43402</th>\n",
              "      <td>74.1201</td>\n",
              "    </tr>\n",
              "  </tbody>\n",
              "</table>\n",
              "<p>43403 rows × 1 columns</p>\n",
              "</div>\n",
              "    <div class=\"colab-df-buttons\">\n",
              "\n",
              "  <div class=\"colab-df-container\">\n",
              "    <button class=\"colab-df-convert\" onclick=\"convertToInteractive('df-5cdd3be0-b001-4620-92f9-fde943a4dd2e')\"\n",
              "            title=\"Convert this dataframe to an interactive table.\"\n",
              "            style=\"display:none;\">\n",
              "\n",
              "  <svg xmlns=\"http://www.w3.org/2000/svg\" height=\"24px\" viewBox=\"0 -960 960 960\">\n",
              "    <path d=\"M120-120v-720h720v720H120Zm60-500h600v-160H180v160Zm220 220h160v-160H400v160Zm0 220h160v-160H400v160ZM180-400h160v-160H180v160Zm440 0h160v-160H620v160ZM180-180h160v-160H180v160Zm440 0h160v-160H620v160Z\"/>\n",
              "  </svg>\n",
              "    </button>\n",
              "\n",
              "  <style>\n",
              "    .colab-df-container {\n",
              "      display:flex;\n",
              "      gap: 12px;\n",
              "    }\n",
              "\n",
              "    .colab-df-convert {\n",
              "      background-color: #E8F0FE;\n",
              "      border: none;\n",
              "      border-radius: 50%;\n",
              "      cursor: pointer;\n",
              "      display: none;\n",
              "      fill: #1967D2;\n",
              "      height: 32px;\n",
              "      padding: 0 0 0 0;\n",
              "      width: 32px;\n",
              "    }\n",
              "\n",
              "    .colab-df-convert:hover {\n",
              "      background-color: #E2EBFA;\n",
              "      box-shadow: 0px 1px 2px rgba(60, 64, 67, 0.3), 0px 1px 3px 1px rgba(60, 64, 67, 0.15);\n",
              "      fill: #174EA6;\n",
              "    }\n",
              "\n",
              "    .colab-df-buttons div {\n",
              "      margin-bottom: 4px;\n",
              "    }\n",
              "\n",
              "    [theme=dark] .colab-df-convert {\n",
              "      background-color: #3B4455;\n",
              "      fill: #D2E3FC;\n",
              "    }\n",
              "\n",
              "    [theme=dark] .colab-df-convert:hover {\n",
              "      background-color: #434B5C;\n",
              "      box-shadow: 0px 1px 3px 1px rgba(0, 0, 0, 0.15);\n",
              "      filter: drop-shadow(0px 1px 2px rgba(0, 0, 0, 0.3));\n",
              "      fill: #FFFFFF;\n",
              "    }\n",
              "  </style>\n",
              "\n",
              "    <script>\n",
              "      const buttonEl =\n",
              "        document.querySelector('#df-5cdd3be0-b001-4620-92f9-fde943a4dd2e button.colab-df-convert');\n",
              "      buttonEl.style.display =\n",
              "        google.colab.kernel.accessAllowed ? 'block' : 'none';\n",
              "\n",
              "      async function convertToInteractive(key) {\n",
              "        const element = document.querySelector('#df-5cdd3be0-b001-4620-92f9-fde943a4dd2e');\n",
              "        const dataTable =\n",
              "          await google.colab.kernel.invokeFunction('convertToInteractive',\n",
              "                                                    [key], {});\n",
              "        if (!dataTable) return;\n",
              "\n",
              "        const docLinkHtml = 'Like what you see? Visit the ' +\n",
              "          '<a target=\"_blank\" href=https://colab.research.google.com/notebooks/data_table.ipynb>data table notebook</a>'\n",
              "          + ' to learn more about interactive tables.';\n",
              "        element.innerHTML = '';\n",
              "        dataTable['output_type'] = 'display_data';\n",
              "        await google.colab.output.renderOutput(dataTable, element);\n",
              "        const docLink = document.createElement('div');\n",
              "        docLink.innerHTML = docLinkHtml;\n",
              "        element.appendChild(docLink);\n",
              "      }\n",
              "    </script>\n",
              "  </div>\n",
              "\n",
              "\n",
              "<div id=\"df-7e9fd4ce-3f86-44ea-aa4c-40d14bbda73f\">\n",
              "  <button class=\"colab-df-quickchart\" onclick=\"quickchart('df-7e9fd4ce-3f86-44ea-aa4c-40d14bbda73f')\"\n",
              "            title=\"Suggest charts\"\n",
              "            style=\"display:none;\">\n",
              "\n",
              "<svg xmlns=\"http://www.w3.org/2000/svg\" height=\"24px\"viewBox=\"0 0 24 24\"\n",
              "     width=\"24px\">\n",
              "    <g>\n",
              "        <path d=\"M19 3H5c-1.1 0-2 .9-2 2v14c0 1.1.9 2 2 2h14c1.1 0 2-.9 2-2V5c0-1.1-.9-2-2-2zM9 17H7v-7h2v7zm4 0h-2V7h2v10zm4 0h-2v-4h2v4z\"/>\n",
              "    </g>\n",
              "</svg>\n",
              "  </button>\n",
              "\n",
              "<style>\n",
              "  .colab-df-quickchart {\n",
              "      --bg-color: #E8F0FE;\n",
              "      --fill-color: #1967D2;\n",
              "      --hover-bg-color: #E2EBFA;\n",
              "      --hover-fill-color: #174EA6;\n",
              "      --disabled-fill-color: #AAA;\n",
              "      --disabled-bg-color: #DDD;\n",
              "  }\n",
              "\n",
              "  [theme=dark] .colab-df-quickchart {\n",
              "      --bg-color: #3B4455;\n",
              "      --fill-color: #D2E3FC;\n",
              "      --hover-bg-color: #434B5C;\n",
              "      --hover-fill-color: #FFFFFF;\n",
              "      --disabled-bg-color: #3B4455;\n",
              "      --disabled-fill-color: #666;\n",
              "  }\n",
              "\n",
              "  .colab-df-quickchart {\n",
              "    background-color: var(--bg-color);\n",
              "    border: none;\n",
              "    border-radius: 50%;\n",
              "    cursor: pointer;\n",
              "    display: none;\n",
              "    fill: var(--fill-color);\n",
              "    height: 32px;\n",
              "    padding: 0;\n",
              "    width: 32px;\n",
              "  }\n",
              "\n",
              "  .colab-df-quickchart:hover {\n",
              "    background-color: var(--hover-bg-color);\n",
              "    box-shadow: 0 1px 2px rgba(60, 64, 67, 0.3), 0 1px 3px 1px rgba(60, 64, 67, 0.15);\n",
              "    fill: var(--button-hover-fill-color);\n",
              "  }\n",
              "\n",
              "  .colab-df-quickchart-complete:disabled,\n",
              "  .colab-df-quickchart-complete:disabled:hover {\n",
              "    background-color: var(--disabled-bg-color);\n",
              "    fill: var(--disabled-fill-color);\n",
              "    box-shadow: none;\n",
              "  }\n",
              "\n",
              "  .colab-df-spinner {\n",
              "    border: 2px solid var(--fill-color);\n",
              "    border-color: transparent;\n",
              "    border-bottom-color: var(--fill-color);\n",
              "    animation:\n",
              "      spin 1s steps(1) infinite;\n",
              "  }\n",
              "\n",
              "  @keyframes spin {\n",
              "    0% {\n",
              "      border-color: transparent;\n",
              "      border-bottom-color: var(--fill-color);\n",
              "      border-left-color: var(--fill-color);\n",
              "    }\n",
              "    20% {\n",
              "      border-color: transparent;\n",
              "      border-left-color: var(--fill-color);\n",
              "      border-top-color: var(--fill-color);\n",
              "    }\n",
              "    30% {\n",
              "      border-color: transparent;\n",
              "      border-left-color: var(--fill-color);\n",
              "      border-top-color: var(--fill-color);\n",
              "      border-right-color: var(--fill-color);\n",
              "    }\n",
              "    40% {\n",
              "      border-color: transparent;\n",
              "      border-right-color: var(--fill-color);\n",
              "      border-top-color: var(--fill-color);\n",
              "    }\n",
              "    60% {\n",
              "      border-color: transparent;\n",
              "      border-right-color: var(--fill-color);\n",
              "    }\n",
              "    80% {\n",
              "      border-color: transparent;\n",
              "      border-right-color: var(--fill-color);\n",
              "      border-bottom-color: var(--fill-color);\n",
              "    }\n",
              "    90% {\n",
              "      border-color: transparent;\n",
              "      border-bottom-color: var(--fill-color);\n",
              "    }\n",
              "  }\n",
              "</style>\n",
              "\n",
              "  <script>\n",
              "    async function quickchart(key) {\n",
              "      const quickchartButtonEl =\n",
              "        document.querySelector('#' + key + ' button');\n",
              "      quickchartButtonEl.disabled = true;  // To prevent multiple clicks.\n",
              "      quickchartButtonEl.classList.add('colab-df-spinner');\n",
              "      try {\n",
              "        const charts = await google.colab.kernel.invokeFunction(\n",
              "            'suggestCharts', [key], {});\n",
              "      } catch (error) {\n",
              "        console.error('Error during call to suggestCharts:', error);\n",
              "      }\n",
              "      quickchartButtonEl.classList.remove('colab-df-spinner');\n",
              "      quickchartButtonEl.classList.add('colab-df-quickchart-complete');\n",
              "    }\n",
              "    (() => {\n",
              "      let quickchartButtonEl =\n",
              "        document.querySelector('#df-7e9fd4ce-3f86-44ea-aa4c-40d14bbda73f button');\n",
              "      quickchartButtonEl.style.display =\n",
              "        google.colab.kernel.accessAllowed ? 'block' : 'none';\n",
              "    })();\n",
              "  </script>\n",
              "</div>\n",
              "    </div>\n",
              "  </div>\n"
            ]
          },
          "metadata": {},
          "execution_count": 4
        }
      ]
    },
    {
      "cell_type": "code",
      "source": [
        "rates = np.array(df['<CLOSE>']).reshape(-1, 1)\n",
        "rates"
      ],
      "metadata": {
        "colab": {
          "base_uri": "https://localhost:8080/"
        },
        "id": "w1ChhewwPPGT",
        "outputId": "20dd8b68-089a-4b2f-a43e-17070efbd295"
      },
      "execution_count": 5,
      "outputs": [
        {
          "output_type": "execute_result",
          "data": {
            "text/plain": [
              "array([[59.2343],\n",
              "       [59.1927],\n",
              "       [59.2332],\n",
              "       ...,\n",
              "       [74.1308],\n",
              "       [74.0699],\n",
              "       [74.1201]])"
            ]
          },
          "metadata": {},
          "execution_count": 5
        }
      ]
    },
    {
      "cell_type": "code",
      "source": [
        "scaler = MinMaxScaler()\n",
        "normalized_rates = scaler.fit_transform(rates)"
      ],
      "metadata": {
        "id": "czxGxda5PaEe"
      },
      "execution_count": 6,
      "outputs": []
    },
    {
      "cell_type": "code",
      "source": [
        "TIME_STEPS = 50\n",
        "\n",
        "formatted_rates = []\n",
        "for i in range(len(normalized_rates) - TIME_STEPS):\n",
        "  formatted_rates.append(normalized_rates[i: i + TIME_STEPS + 1])"
      ],
      "metadata": {
        "id": "FiWiPUXvPoAh"
      },
      "execution_count": 7,
      "outputs": []
    },
    {
      "cell_type": "code",
      "source": [
        "data = np.array(formatted_rates).astype('float32')\n",
        "X = data[:, :-1]\n",
        "y = data[:, -1]\n",
        "X.shape, y.shape"
      ],
      "metadata": {
        "colab": {
          "base_uri": "https://localhost:8080/"
        },
        "id": "1oP5YhhtZz3P",
        "outputId": "8eda0702-be7a-490d-b84e-85d47159e918"
      },
      "execution_count": 8,
      "outputs": [
        {
          "output_type": "execute_result",
          "data": {
            "text/plain": [
              "((43353, 50, 1), (43353, 1))"
            ]
          },
          "metadata": {},
          "execution_count": 8
        }
      ]
    },
    {
      "cell_type": "code",
      "source": [
        "split1 = 0.7\n",
        "split2 = 0.9\n",
        "boundary1 = int(data.shape[0]*split1)\n",
        "boundary2 = int(data.shape[0]*split2)\n",
        "train_x = X[: boundary1]\n",
        "val_x = X[boundary1:boundary2]\n",
        "test_x = X[boundary2:]\n",
        "train_x.shape,val_x.shape, test_x.shape"
      ],
      "metadata": {
        "colab": {
          "base_uri": "https://localhost:8080/"
        },
        "id": "jlUCxmWYa5oT",
        "outputId": "a3402c45-6a9b-4f26-b263-f713a421a473"
      },
      "execution_count": 9,
      "outputs": [
        {
          "output_type": "execute_result",
          "data": {
            "text/plain": [
              "((30347, 50, 1), (8670, 50, 1), (4336, 50, 1))"
            ]
          },
          "metadata": {},
          "execution_count": 9
        }
      ]
    },
    {
      "cell_type": "code",
      "source": [
        "train_y = y[: boundary1]\n",
        "val_y = y[boundary1:boundary2]\n",
        "test_y = y[boundary2: ]\n",
        "train_y.shape, val_y.shape, test_y.shape"
      ],
      "metadata": {
        "colab": {
          "base_uri": "https://localhost:8080/"
        },
        "id": "KOggBxbGa8K2",
        "outputId": "d6f17511-3f88-47fd-d3a8-43913ca46b2a"
      },
      "execution_count": 10,
      "outputs": [
        {
          "output_type": "execute_result",
          "data": {
            "text/plain": [
              "((30347, 1), (8670, 1), (4336, 1))"
            ]
          },
          "metadata": {},
          "execution_count": 10
        }
      ]
    },
    {
      "cell_type": "code",
      "source": [
        "rnn_model = Sequential()\n",
        "rnn_model.add(SimpleRNN(256, input_shape=(TIME_STEPS, 1), unroll=False))\n",
        "rnn_model.add(Dropout(0.2))\n",
        "rnn_model.add(Dense(1))\n",
        "rnn_model.summary()"
      ],
      "metadata": {
        "colab": {
          "base_uri": "https://localhost:8080/"
        },
        "id": "NQMGyK7Xa-mX",
        "outputId": "7d3f15bc-7604-40f2-ca12-d05edfb2fd1d"
      },
      "execution_count": 11,
      "outputs": [
        {
          "output_type": "stream",
          "name": "stdout",
          "text": [
            "Model: \"sequential\"\n",
            "_________________________________________________________________\n",
            " Layer (type)                Output Shape              Param #   \n",
            "=================================================================\n",
            " simple_rnn (SimpleRNN)      (None, 256)               66048     \n",
            "                                                                 \n",
            " dropout (Dropout)           (None, 256)               0         \n",
            "                                                                 \n",
            " dense (Dense)               (None, 1)                 257       \n",
            "                                                                 \n",
            "=================================================================\n",
            "Total params: 66305 (259.00 KB)\n",
            "Trainable params: 66305 (259.00 KB)\n",
            "Non-trainable params: 0 (0.00 Byte)\n",
            "_________________________________________________________________\n"
          ]
        }
      ]
    },
    {
      "cell_type": "code",
      "source": [
        "rnn_model.compile(loss='mse', optimizer='adam', metrics=['mse'])\n",
        "rnn_model.fit(train_x, train_y, batch_size=64, epochs=10, validation_data=(val_x, val_y),)"
      ],
      "metadata": {
        "colab": {
          "base_uri": "https://localhost:8080/"
        },
        "id": "pbSax36abLeQ",
        "outputId": "8de6d279-ded9-4433-fbc4-f1f89e841371"
      },
      "execution_count": 12,
      "outputs": [
        {
          "output_type": "stream",
          "name": "stdout",
          "text": [
            "Epoch 1/10\n",
            "475/475 [==============================] - 21s 37ms/step - loss: 0.0037 - mse: 0.0037 - val_loss: 2.1019e-04 - val_mse: 2.1019e-04\n",
            "Epoch 2/10\n",
            "475/475 [==============================] - 26s 55ms/step - loss: 3.8889e-04 - mse: 3.8889e-04 - val_loss: 2.7537e-04 - val_mse: 2.7537e-04\n",
            "Epoch 3/10\n",
            "475/475 [==============================] - 20s 42ms/step - loss: 3.1222e-04 - mse: 3.1222e-04 - val_loss: 9.1312e-05 - val_mse: 9.1312e-05\n",
            "Epoch 4/10\n",
            "475/475 [==============================] - 17s 36ms/step - loss: 2.7302e-04 - mse: 2.7302e-04 - val_loss: 1.1072e-04 - val_mse: 1.1072e-04\n",
            "Epoch 5/10\n",
            "475/475 [==============================] - 17s 36ms/step - loss: 2.4605e-04 - mse: 2.4605e-04 - val_loss: 3.4704e-05 - val_mse: 3.4704e-05\n",
            "Epoch 6/10\n",
            "475/475 [==============================] - 18s 37ms/step - loss: 2.2975e-04 - mse: 2.2975e-04 - val_loss: 2.5125e-04 - val_mse: 2.5125e-04\n",
            "Epoch 7/10\n",
            "475/475 [==============================] - 16s 35ms/step - loss: 2.1786e-04 - mse: 2.1786e-04 - val_loss: 6.4714e-05 - val_mse: 6.4714e-05\n",
            "Epoch 8/10\n",
            "475/475 [==============================] - 17s 35ms/step - loss: 1.9264e-04 - mse: 1.9264e-04 - val_loss: 3.2338e-05 - val_mse: 3.2338e-05\n",
            "Epoch 9/10\n",
            "475/475 [==============================] - 17s 36ms/step - loss: 1.7563e-04 - mse: 1.7563e-04 - val_loss: 1.0131e-04 - val_mse: 1.0131e-04\n",
            "Epoch 10/10\n",
            "475/475 [==============================] - 18s 38ms/step - loss: 1.6221e-04 - mse: 1.6221e-04 - val_loss: 6.8099e-05 - val_mse: 6.8099e-05\n"
          ]
        },
        {
          "output_type": "execute_result",
          "data": {
            "text/plain": [
              "<keras.src.callbacks.History at 0x7891675a4940>"
            ]
          },
          "metadata": {},
          "execution_count": 12
        }
      ]
    },
    {
      "cell_type": "code",
      "source": [
        "test_loss, test_acc = rnn_model.evaluate(test_x, test_y, verbose=1)\n",
        "\n",
        "print('\\nTest Accuracy:', test_acc)\n",
        "print('Test Loss:    ', test_loss)"
      ],
      "metadata": {
        "colab": {
          "base_uri": "https://localhost:8080/"
        },
        "id": "OVDy-jF8DzEh",
        "outputId": "ddfe6970-551d-4d47-966f-211aac5c6b92"
      },
      "execution_count": 13,
      "outputs": [
        {
          "output_type": "stream",
          "name": "stdout",
          "text": [
            "136/136 [==============================] - 1s 6ms/step - loss: 7.1967e-05 - mse: 7.1967e-05\n",
            "\n",
            "Test Accuracy: 7.196706428658217e-05\n",
            "Test Loss:     7.196706428658217e-05\n"
          ]
        }
      ]
    },
    {
      "cell_type": "code",
      "source": [
        "rnn_predict = rnn_model.predict(test_x)\n",
        "rnn_predict[:5]"
      ],
      "metadata": {
        "colab": {
          "base_uri": "https://localhost:8080/"
        },
        "id": "MSLBr4QfbR5d",
        "outputId": "35b38624-d10b-451a-b10c-2ced5f44cbfa"
      },
      "execution_count": 14,
      "outputs": [
        {
          "output_type": "stream",
          "name": "stdout",
          "text": [
            "136/136 [==============================] - 1s 5ms/step\n"
          ]
        },
        {
          "output_type": "execute_result",
          "data": {
            "text/plain": [
              "array([[0.66235375],\n",
              "       [0.6619746 ],\n",
              "       [0.66181767],\n",
              "       [0.66147673],\n",
              "       [0.6622302 ]], dtype=float32)"
            ]
          },
          "metadata": {},
          "execution_count": 14
        }
      ]
    },
    {
      "cell_type": "code",
      "source": [
        "rnn_predict = np.reshape(rnn_predict, (rnn_predict.size, ))\n",
        "rnn_predict_y = scaler.inverse_transform([[i] for i in rnn_predict])\n",
        "rnn_predict_y[:5]"
      ],
      "metadata": {
        "colab": {
          "base_uri": "https://localhost:8080/"
        },
        "id": "r0EhHLXebbDu",
        "outputId": "47c218e5-91d5-4b31-85f0-09b259dce9e8"
      },
      "execution_count": 15,
      "outputs": [
        {
          "output_type": "execute_result",
          "data": {
            "text/plain": [
              "array([[72.62907339],\n",
              "       [72.61525756],\n",
              "       [72.6095388 ],\n",
              "       [72.5971152 ],\n",
              "       [72.62457092]])"
            ]
          },
          "metadata": {},
          "execution_count": 15
        }
      ]
    },
    {
      "cell_type": "code",
      "source": [
        "true_y = scaler.inverse_transform(test_y)\n",
        "true_y[:5]"
      ],
      "metadata": {
        "colab": {
          "base_uri": "https://localhost:8080/"
        },
        "id": "d5SO6dRVbdus",
        "outputId": "4d50e62f-d545-46f3-f78c-f3fe75560c9c"
      },
      "execution_count": 16,
      "outputs": [
        {
          "output_type": "execute_result",
          "data": {
            "text/plain": [
              "array([[72.863304],\n",
              "       [72.851   ],\n",
              "       [72.836   ],\n",
              "       [72.9279  ],\n",
              "       [72.835   ]], dtype=float32)"
            ]
          },
          "metadata": {},
          "execution_count": 16
        }
      ]
    },
    {
      "cell_type": "code",
      "source": [
        "plt.plot(rnn_predict_y, 'b:')\n",
        "plt.plot(true_y, 'r-')\n",
        "plt.legend(['rnn_predictions','exchange rate'])\n",
        "plt.show()"
      ],
      "metadata": {
        "colab": {
          "base_uri": "https://localhost:8080/",
          "height": 430
        },
        "id": "sun4bHnSbgj5",
        "outputId": "dfa40c7b-a8ec-47ed-f484-c936697d166a"
      },
      "execution_count": 17,
      "outputs": [
        {
          "output_type": "display_data",
          "data": {
            "text/plain": [
              "<Figure size 640x480 with 1 Axes>"
            ],
            "image/png": "[encoded data removed]"
          },
          "metadata": {}
        }
      ]
    },
    {
      "cell_type": "code",
      "source": [],
      "metadata": {
        "id": "GyuK9zIHyVcN"
      },
      "execution_count": 17,
      "outputs": []
    }
  ]
}