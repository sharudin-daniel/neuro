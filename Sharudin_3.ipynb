{
  "cells": [
    {
      "cell_type": "code",
      "execution_count": 1,
      "metadata": {
        "id": "fTqbDsN_LLNc"
      },
      "outputs": [],
      "source": [
        "import warnings\n",
        "warnings.filterwarnings('ignore')\n",
        "\n",
        "import cv2\n",
        "import numpy as np\n",
        "import urllib.request\n",
        "import matplotlib.pyplot as plt\n",
        "from sklearn.model_selection import train_test_split\n",
        "from keras.datasets import cifar10\n",
        "from keras.preprocessing.image import ImageDataGenerator\n",
        "from keras.utils import to_categorical\n",
        "from keras.models import Sequential\n",
        "from keras.layers import Dense, Conv2D, MaxPooling2D\n",
        "from keras.layers import Dropout, Flatten, BatchNormalization\n",
        "from keras.regularizers import l2\n",
        "from keras.optimizers import Adam\n",
        "from keras.callbacks import ReduceLROnPlateau, EarlyStopping\n",
        "from keras.models import load_model\n",
        "import tensorflow as tf\n"
      ]
    },
    {
      "cell_type": "code",
      "execution_count": 2,
      "metadata": {
        "colab": {
          "base_uri": "https://localhost:8080/"
        },
        "id": "t7yFxqgSLOGh",
        "outputId": "6ba349f6-a4da-4b32-c15b-c29843d5c5b7"
      },
      "outputs": [
        {
          "output_type": "stream",
          "name": "stdout",
          "text": [
            "Downloading data from https://www.cs.toronto.edu/~kriz/cifar-10-python.tar.gz\n",
            "170498071/170498071 [==============================] - 4s 0us/step\n"
          ]
        }
      ],
      "source": [
        "(X_train, y_train), (X_test, y_test) = cifar10.load_data()\n",
        "\n",
        "X_train, X_valid, y_train, y_valid = train_test_split(X_train, y_train, test_size=15000, random_state=0)\n"
      ]
    },
    {
      "cell_type": "code",
      "execution_count": 3,
      "metadata": {
        "colab": {
          "base_uri": "https://localhost:8080/"
        },
        "id": "Ue5K0z-jLODe",
        "outputId": "4902fbe6-8c33-4de7-b407-41ec018de007"
      },
      "outputs": [
        {
          "output_type": "stream",
          "name": "stdout",
          "text": [
            "Train Images Shape:       (35000, 32, 32, 3)\n",
            "Train Labels Shape:       (35000, 1)\n",
            "\n",
            "Validation Images Shape:  (15000, 32, 32, 3)\n",
            "Validation Labels Shape:  (15000, 1)\n",
            "\n",
            "Test Images Shape:        (10000, 32, 32, 3)\n",
            "Test Labels Shape:        (10000, 1)\n"
          ]
        }
      ],
      "source": [
        "print('Train Images Shape:      ', X_train.shape)\n",
        "print('Train Labels Shape:      ', y_train.shape)\n",
        "\n",
        "print('\\nValidation Images Shape: ', X_valid.shape)\n",
        "print('Validation Labels Shape: ', y_valid.shape)\n",
        "\n",
        "print('\\nTest Images Shape:       ', X_test.shape)\n",
        "print('Test Labels Shape:       ', y_test.shape)"
      ]
    },
    {
      "cell_type": "code",
      "execution_count": 4,
      "metadata": {
        "id": "IwezLMkMLN-4"
      },
      "outputs": [],
      "source": [
        "X_train = X_train.astype('float32')\n",
        "X_test  = X_test.astype('float32')\n",
        "X_valid = X_valid.astype('float32')\n",
        "\n",
        "mean = np.mean(X_train)\n",
        "std  = np.std(X_train)\n",
        "\n",
        "X_train = (X_train-mean)/(std+1e-7)\n",
        "X_test  = (X_test-mean) /(std+1e-7)\n",
        "X_valid = (X_valid-mean)/(std+1e-7)"
      ]
    },
    {
      "cell_type": "code",
      "execution_count": 5,
      "metadata": {
        "id": "NMsQrc-fLN8U"
      },
      "outputs": [],
      "source": [
        "y_train = to_categorical(y_train, 10)\n",
        "y_valid = to_categorical(y_valid, 10)\n",
        "y_test  = to_categorical(y_test, 10)"
      ]
    },
    {
      "cell_type": "code",
      "execution_count": 6,
      "metadata": {
        "id": "I49ATw1OLN55"
      },
      "outputs": [],
      "source": [
        "data_generator = ImageDataGenerator(\n",
        "    rotation_range=15,\n",
        "\n",
        "    width_shift_range=0.12,\n",
        "\n",
        "    height_shift_range=0.12,\n",
        "\n",
        "    horizontal_flip=True,\n",
        "\n",
        "    zoom_range=0.1,\n",
        "\n",
        "    brightness_range=[0.9,1.1],\n",
        "\n",
        "    shear_range=10,\n",
        "\n",
        "    channel_shift_range=0.1,\n",
        ")"
      ]
    },
    {
      "cell_type": "code",
      "execution_count": 7,
      "metadata": {
        "id": "uoXlajqsLNt2"
      },
      "outputs": [],
      "source": [
        "def create_model(normalisation_bool, dropout_bool, bias_bool, activation):\n",
        "  model = Sequential()\n",
        "\n",
        "  weight_decay = 0.0001\n",
        "\n",
        "  model.add(Conv2D(filters=32, kernel_size=(3,3), padding='same', activation=activation, kernel_regularizer=l2(weight_decay),\n",
        "                  input_shape=X_train.shape[1:]))\n",
        "  if normalisation_bool:\n",
        "    model.add(BatchNormalization())\n",
        "\n",
        "  model.add(Conv2D(filters=32, kernel_size=(3,3), padding='same', activation=activation, kernel_regularizer=l2(weight_decay)))\n",
        "  if normalisation_bool:\n",
        "    model.add(BatchNormalization())\n",
        "\n",
        "  model.add(MaxPooling2D(pool_size=(2, 2)))\n",
        "  if dropout_bool:\n",
        "    model.add(Dropout(rate=0.2))\n",
        "\n",
        "  model.add(Conv2D(filters=64, kernel_size=(3,3), padding='same', activation=activation, kernel_regularizer=l2(weight_decay)))\n",
        "  if normalisation_bool:\n",
        "    model.add(BatchNormalization())\n",
        "  model.add(Conv2D(filters=64, kernel_size=(3,3), padding='same', activation=activation, kernel_regularizer=l2(weight_decay)))\n",
        "  if normalisation_bool:\n",
        "    model.add(BatchNormalization())\n",
        "\n",
        "  model.add(MaxPooling2D(pool_size=(2, 2)))\n",
        "  if dropout_bool:\n",
        "    model.add(Dropout(rate=0.3))\n",
        "\n",
        "  model.add(Conv2D(filters=128, kernel_size=(3,3), padding='same', activation=activation, kernel_regularizer=l2(weight_decay)))\n",
        "  if normalisation_bool:\n",
        "    model.add(BatchNormalization())\n",
        "  model.add(Conv2D(filters=128, kernel_size=(3,3), padding='same', activation=activation, kernel_regularizer=l2(weight_decay)))\n",
        "  if normalisation_bool:\n",
        "    model.add(BatchNormalization())\n",
        "\n",
        "  model.add(MaxPooling2D(pool_size=(2, 2)))\n",
        "  if dropout_bool:\n",
        "    model.add(Dropout(rate=0.4))\n",
        "\n",
        "  model.add(Conv2D(filters=256, kernel_size=(3,3), padding='same', activation=activation, kernel_regularizer=l2(weight_decay)))\n",
        "  if normalisation_bool:\n",
        "    model.add(BatchNormalization())\n",
        "  model.add(Conv2D(filters=256, kernel_size=(3,3), padding='same', activation=activation, kernel_regularizer=l2(weight_decay)))\n",
        "  if normalisation_bool:\n",
        "    model.add(BatchNormalization())\n",
        "\n",
        "  model.add(MaxPooling2D(pool_size=(2, 2)))\n",
        "  if dropout_bool:\n",
        "    model.add(Dropout(rate=0.5))\n",
        "\n",
        "  model.add(Flatten())\n",
        "\n",
        "  if bias_bool:\n",
        "    model.add(Dense(10, activation='softmax'))\n",
        "  else:\n",
        "    model.add(Dense(10, activation='softmax', use_bias=False))\n",
        "\n",
        "  return model"
      ]
    },
    {
      "cell_type": "code",
      "execution_count": 8,
      "metadata": {
        "id": "JdTKsGzIL-nH"
      },
      "outputs": [],
      "source": [
        "def define_parameters(model, batch_size, epochs, optimizer, loss):\n",
        "\n",
        "  model.compile(optimizer=optimizer, loss=loss, metrics=['accuracy'])\n",
        "\n",
        "  reduce_lr = ReduceLROnPlateau(monitor='val_loss', factor=0.5, patience=10, min_lr=0.00001)\n",
        "\n",
        "  early_stopping = EarlyStopping(monitor='val_loss', patience=40, restore_best_weights=True, verbose=1)\n",
        "\n",
        "  model.fit(data_generator.flow(X_train, y_train, batch_size=batch_size),\n",
        "            epochs=epochs,\n",
        "            validation_data=(X_valid, y_valid),\n",
        "            callbacks=[reduce_lr, early_stopping],\n",
        "            verbose=2)"
      ]
    },
    {
      "cell_type": "markdown",
      "metadata": {
        "id": "8bq4MAiXXt_P"
      },
      "source": [
        "# Функции активации"
      ]
    },
    {
      "cell_type": "code",
      "execution_count": 9,
      "metadata": {
        "colab": {
          "base_uri": "https://localhost:8080/"
        },
        "id": "bpHnqlGZML1D",
        "outputId": "f331e398-5b84-4eef-9152-365309f9a13b"
      },
      "outputs": [
        {
          "output_type": "stream",
          "name": "stdout",
          "text": [
            "Epoch 1/5\n",
            "547/547 - 61s - loss: 2.1405 - accuracy: 0.3347 - val_loss: 1.7920 - val_accuracy: 0.4478 - lr: 0.0010 - 61s/epoch - 111ms/step\n",
            "Epoch 2/5\n",
            "547/547 - 41s - loss: 1.6328 - accuracy: 0.4562 - val_loss: 1.5456 - val_accuracy: 0.5380 - lr: 0.0010 - 41s/epoch - 75ms/step\n",
            "Epoch 3/5\n",
            "547/547 - 40s - loss: 1.4655 - accuracy: 0.5194 - val_loss: 1.4717 - val_accuracy: 0.5666 - lr: 0.0010 - 40s/epoch - 72ms/step\n",
            "Epoch 4/5\n",
            "547/547 - 40s - loss: 1.3841 - accuracy: 0.5519 - val_loss: 1.1714 - val_accuracy: 0.6443 - lr: 0.0010 - 40s/epoch - 73ms/step\n",
            "Epoch 5/5\n",
            "547/547 - 41s - loss: 1.3432 - accuracy: 0.5723 - val_loss: 1.1838 - val_accuracy: 0.6485 - lr: 0.0010 - 41s/epoch - 75ms/step\n",
            "Epoch 1/5\n",
            "547/547 - 46s - loss: 2.2100 - accuracy: 0.3205 - val_loss: 1.6627 - val_accuracy: 0.4503 - lr: 0.0010 - 46s/epoch - 84ms/step\n",
            "Epoch 2/5\n",
            "547/547 - 41s - loss: 1.6320 - accuracy: 0.4504 - val_loss: 1.6812 - val_accuracy: 0.4685 - lr: 0.0010 - 41s/epoch - 75ms/step\n",
            "Epoch 3/5\n",
            "547/547 - 41s - loss: 1.4471 - accuracy: 0.5202 - val_loss: 1.4178 - val_accuracy: 0.5662 - lr: 0.0010 - 41s/epoch - 74ms/step\n",
            "Epoch 4/5\n",
            "547/547 - 40s - loss: 1.3490 - accuracy: 0.5623 - val_loss: 1.5626 - val_accuracy: 0.5207 - lr: 0.0010 - 40s/epoch - 73ms/step\n",
            "Epoch 5/5\n",
            "547/547 - 41s - loss: 1.2701 - accuracy: 0.5931 - val_loss: 1.2597 - val_accuracy: 0.6011 - lr: 0.0010 - 41s/epoch - 74ms/step\n",
            "Epoch 1/5\n",
            "547/547 - 45s - loss: 2.2155 - accuracy: 0.3122 - val_loss: 1.7390 - val_accuracy: 0.4354 - lr: 0.0010 - 45s/epoch - 83ms/step\n",
            "Epoch 2/5\n",
            "547/547 - 41s - loss: 1.6643 - accuracy: 0.4367 - val_loss: 1.5906 - val_accuracy: 0.4691 - lr: 0.0010 - 41s/epoch - 75ms/step\n",
            "Epoch 3/5\n",
            "547/547 - 39s - loss: 1.5159 - accuracy: 0.4947 - val_loss: 1.4688 - val_accuracy: 0.5271 - lr: 0.0010 - 39s/epoch - 72ms/step\n",
            "Epoch 4/5\n",
            "547/547 - 41s - loss: 1.4430 - accuracy: 0.5308 - val_loss: 1.4899 - val_accuracy: 0.5188 - lr: 0.0010 - 41s/epoch - 74ms/step\n",
            "Epoch 5/5\n",
            "547/547 - 40s - loss: 1.4017 - accuracy: 0.5505 - val_loss: 1.3173 - val_accuracy: 0.5954 - lr: 0.0010 - 40s/epoch - 74ms/step\n",
            "Epoch 1/5\n",
            "547/547 - 46s - loss: 2.3711 - accuracy: 0.3283 - val_loss: 1.4935 - val_accuracy: 0.5000 - lr: 0.0010 - 46s/epoch - 84ms/step\n",
            "Epoch 2/5\n",
            "547/547 - 40s - loss: 1.7794 - accuracy: 0.4610 - val_loss: 1.8176 - val_accuracy: 0.5201 - lr: 0.0010 - 40s/epoch - 73ms/step\n",
            "Epoch 3/5\n",
            "547/547 - 42s - loss: 1.5648 - accuracy: 0.5224 - val_loss: 1.3650 - val_accuracy: 0.5811 - lr: 0.0010 - 42s/epoch - 77ms/step\n",
            "Epoch 4/5\n",
            "547/547 - 40s - loss: 1.4017 - accuracy: 0.5712 - val_loss: 1.2136 - val_accuracy: 0.6391 - lr: 0.0010 - 40s/epoch - 74ms/step\n",
            "Epoch 5/5\n",
            "547/547 - 40s - loss: 1.2700 - accuracy: 0.6117 - val_loss: 1.2780 - val_accuracy: 0.6538 - lr: 0.0010 - 40s/epoch - 74ms/step\n",
            "linear: 0.6414999961853027\n",
            "sigmoid: 0.6051999926567078\n",
            "tanh: 0.5874999761581421\n",
            "relu: 0.6348000168800354\n"
          ]
        }
      ],
      "source": [
        "activation_functions = ['linear', 'sigmoid', 'tanh', 'relu']\n",
        "results = []\n",
        "\n",
        "for activation_function in activation_functions:\n",
        "    model = create_model(True, True, True, activation_function)\n",
        "\n",
        "    define_parameters(model, 64, 5, 'adam', 'categorical_crossentropy')\n",
        "\n",
        "    loss, accuracy = model.evaluate(X_test, y_test, verbose=0)\n",
        "    results.append({'activation_function': activation_function, 'accuracy': accuracy})\n",
        "\n",
        "for result in results:\n",
        "    print(f'{result[\"activation_function\"]}: {result[\"accuracy\"]}')"
      ]
    },
    {
      "cell_type": "markdown",
      "metadata": {
        "id": "-J1nDFewX2E7"
      },
      "source": [
        "# Bias"
      ]
    },
    {
      "cell_type": "code",
      "execution_count": 10,
      "metadata": {
        "colab": {
          "base_uri": "https://localhost:8080/"
        },
        "id": "N31BjxZhSUwY",
        "outputId": "918e6e1a-904c-4e3d-9b8b-5463af518a9f"
      },
      "outputs": [
        {
          "output_type": "stream",
          "name": "stdout",
          "text": [
            "Epoch 1/5\n",
            "547/547 - 47s - loss: 2.3347 - accuracy: 0.3393 - val_loss: 1.6935 - val_accuracy: 0.4811 - lr: 0.0010 - 47s/epoch - 85ms/step\n",
            "Epoch 2/5\n",
            "547/547 - 40s - loss: 1.7688 - accuracy: 0.4578 - val_loss: 1.9803 - val_accuracy: 0.4597 - lr: 0.0010 - 40s/epoch - 73ms/step\n",
            "Epoch 3/5\n",
            "547/547 - 41s - loss: 1.5548 - accuracy: 0.5227 - val_loss: 1.4111 - val_accuracy: 0.5946 - lr: 0.0010 - 41s/epoch - 75ms/step\n",
            "Epoch 4/5\n",
            "547/547 - 41s - loss: 1.3881 - accuracy: 0.5768 - val_loss: 1.5842 - val_accuracy: 0.5411 - lr: 0.0010 - 41s/epoch - 75ms/step\n",
            "Epoch 5/5\n",
            "547/547 - 40s - loss: 1.2839 - accuracy: 0.6097 - val_loss: 1.1860 - val_accuracy: 0.6389 - lr: 0.0010 - 40s/epoch - 73ms/step\n",
            "Epoch 1/5\n",
            "547/547 - 45s - loss: 2.3058 - accuracy: 0.3380 - val_loss: 1.5738 - val_accuracy: 0.4791 - lr: 0.0010 - 45s/epoch - 82ms/step\n",
            "Epoch 2/5\n",
            "547/547 - 41s - loss: 1.7963 - accuracy: 0.4637 - val_loss: 1.5168 - val_accuracy: 0.5392 - lr: 0.0010 - 41s/epoch - 75ms/step\n",
            "Epoch 3/5\n",
            "547/547 - 42s - loss: 1.6252 - accuracy: 0.5145 - val_loss: 2.3604 - val_accuracy: 0.5300 - lr: 0.0010 - 42s/epoch - 77ms/step\n",
            "Epoch 4/5\n",
            "547/547 - 40s - loss: 1.4679 - accuracy: 0.5643 - val_loss: 1.4901 - val_accuracy: 0.5792 - lr: 0.0010 - 40s/epoch - 74ms/step\n",
            "Epoch 5/5\n",
            "547/547 - 40s - loss: 1.3418 - accuracy: 0.5969 - val_loss: 1.1766 - val_accuracy: 0.6490 - lr: 0.0010 - 40s/epoch - 73ms/step\n",
            "True: 0.6284000277519226\n",
            "False: 0.6388000249862671\n"
          ]
        }
      ],
      "source": [
        "biases = [True, False]\n",
        "results = []\n",
        "\n",
        "for bias in biases:\n",
        "    model = create_model(True, True, bias, 'relu')\n",
        "\n",
        "    define_parameters(model, 64, 5, 'adam', 'categorical_crossentropy')\n",
        "\n",
        "    loss, accuracy = model.evaluate(X_test, y_test, verbose=0)\n",
        "    results.append({'bias': bias, 'accuracy': accuracy})\n",
        "\n",
        "for result in results:\n",
        "    print(f'{result[\"bias\"]}: {result[\"accuracy\"]}')"
      ]
    },
    {
      "cell_type": "markdown",
      "metadata": {
        "id": "UZQ6ZCBRYRWl"
      },
      "source": [
        "# Dropout"
      ]
    },
    {
      "cell_type": "code",
      "execution_count": 11,
      "metadata": {
        "colab": {
          "base_uri": "https://localhost:8080/"
        },
        "id": "qUo7YwjcYQc3",
        "outputId": "6997373d-028e-47ea-a26b-4337e94804ed"
      },
      "outputs": [
        {
          "output_type": "stream",
          "name": "stdout",
          "text": [
            "Epoch 1/5\n",
            "547/547 - 45s - loss: 2.3363 - accuracy: 0.3444 - val_loss: 1.5839 - val_accuracy: 0.4943 - lr: 0.0010 - 45s/epoch - 82ms/step\n",
            "Epoch 2/5\n",
            "547/547 - 41s - loss: 1.8521 - accuracy: 0.4461 - val_loss: 1.6203 - val_accuracy: 0.4844 - lr: 0.0010 - 41s/epoch - 74ms/step\n",
            "Epoch 3/5\n",
            "547/547 - 40s - loss: 1.6464 - accuracy: 0.5079 - val_loss: 1.5042 - val_accuracy: 0.5239 - lr: 0.0010 - 40s/epoch - 73ms/step\n",
            "Epoch 4/5\n",
            "547/547 - 42s - loss: 1.4712 - accuracy: 0.5477 - val_loss: 1.3158 - val_accuracy: 0.5969 - lr: 0.0010 - 42s/epoch - 76ms/step\n",
            "Epoch 5/5\n",
            "547/547 - 41s - loss: 1.3217 - accuracy: 0.5939 - val_loss: 1.2827 - val_accuracy: 0.6022 - lr: 0.0010 - 41s/epoch - 75ms/step\n",
            "Epoch 1/5\n",
            "547/547 - 45s - loss: 1.7274 - accuracy: 0.4369 - val_loss: 1.3838 - val_accuracy: 0.5514 - lr: 0.0010 - 45s/epoch - 82ms/step\n",
            "Epoch 2/5\n",
            "547/547 - 40s - loss: 1.3150 - accuracy: 0.5736 - val_loss: 1.1595 - val_accuracy: 0.6343 - lr: 0.0010 - 40s/epoch - 73ms/step\n",
            "Epoch 3/5\n",
            "547/547 - 39s - loss: 1.1238 - accuracy: 0.6459 - val_loss: 0.8953 - val_accuracy: 0.7283 - lr: 0.0010 - 39s/epoch - 71ms/step\n",
            "Epoch 4/5\n",
            "547/547 - 41s - loss: 1.0126 - accuracy: 0.6913 - val_loss: 0.9486 - val_accuracy: 0.7206 - lr: 0.0010 - 41s/epoch - 75ms/step\n",
            "Epoch 5/5\n",
            "547/547 - 40s - loss: 0.9619 - accuracy: 0.7188 - val_loss: 0.9197 - val_accuracy: 0.7401 - lr: 0.0010 - 40s/epoch - 73ms/step\n",
            "True: 0.5949000120162964\n",
            "False: 0.7304999828338623\n"
          ]
        }
      ],
      "source": [
        "dropouts = [True, False]\n",
        "results = []\n",
        "\n",
        "for dropout in dropouts:\n",
        "    model = create_model(True, dropout, True, 'relu')\n",
        "\n",
        "    define_parameters(model, 64, 5, 'adam', 'categorical_crossentropy')\n",
        "\n",
        "    loss, accuracy = model.evaluate(X_test, y_test, verbose=0)\n",
        "    results.append({'dropout': dropout, 'accuracy': accuracy})\n",
        "\n",
        "for result in results:\n",
        "    print(f'{result[\"dropout\"]}: {result[\"accuracy\"]}')"
      ]
    },
    {
      "cell_type": "markdown",
      "metadata": {
        "id": "xoOYsfcKY6AY"
      },
      "source": [
        "# BatchNormalization"
      ]
    },
    {
      "cell_type": "code",
      "execution_count": 12,
      "metadata": {
        "colab": {
          "base_uri": "https://localhost:8080/"
        },
        "id": "3p6X_J84Y3BF",
        "outputId": "79758a10-bdb8-4c18-82d3-8f3fbe99b9f6"
      },
      "outputs": [
        {
          "output_type": "stream",
          "name": "stdout",
          "text": [
            "Epoch 1/5\n",
            "547/547 - 46s - loss: 2.3361 - accuracy: 0.3381 - val_loss: 1.7303 - val_accuracy: 0.4540 - lr: 0.0010 - 46s/epoch - 84ms/step\n",
            "Epoch 2/5\n",
            "547/547 - 40s - loss: 1.8648 - accuracy: 0.4486 - val_loss: 1.4366 - val_accuracy: 0.5223 - lr: 0.0010 - 40s/epoch - 74ms/step\n",
            "Epoch 3/5\n",
            "547/547 - 40s - loss: 1.6680 - accuracy: 0.5040 - val_loss: 1.3596 - val_accuracy: 0.5590 - lr: 0.0010 - 40s/epoch - 74ms/step\n",
            "Epoch 4/5\n",
            "547/547 - 46s - loss: 1.4992 - accuracy: 0.5489 - val_loss: 1.3213 - val_accuracy: 0.6145 - lr: 0.0010 - 46s/epoch - 84ms/step\n",
            "Epoch 5/5\n",
            "547/547 - 41s - loss: 1.3607 - accuracy: 0.5936 - val_loss: 1.1512 - val_accuracy: 0.6513 - lr: 0.0010 - 41s/epoch - 74ms/step\n",
            "Epoch 1/5\n",
            "547/547 - 42s - loss: 1.8565 - accuracy: 0.3075 - val_loss: 1.6641 - val_accuracy: 0.4037 - lr: 0.0010 - 42s/epoch - 76ms/step\n",
            "Epoch 2/5\n",
            "547/547 - 39s - loss: 1.5416 - accuracy: 0.4463 - val_loss: 1.3918 - val_accuracy: 0.5143 - lr: 0.0010 - 39s/epoch - 71ms/step\n",
            "Epoch 3/5\n",
            "547/547 - 38s - loss: 1.3919 - accuracy: 0.5150 - val_loss: 1.2931 - val_accuracy: 0.5664 - lr: 0.0010 - 38s/epoch - 70ms/step\n",
            "Epoch 4/5\n",
            "547/547 - 38s - loss: 1.2970 - accuracy: 0.5593 - val_loss: 1.2617 - val_accuracy: 0.5759 - lr: 0.0010 - 38s/epoch - 70ms/step\n",
            "Epoch 5/5\n",
            "547/547 - 41s - loss: 1.2217 - accuracy: 0.5947 - val_loss: 1.0800 - val_accuracy: 0.6429 - lr: 0.0010 - 41s/epoch - 74ms/step\n",
            "True: 0.6496000289916992\n",
            "False: 0.6396999955177307\n"
          ]
        }
      ],
      "source": [
        "normalisations = [True, False]\n",
        "results = []\n",
        "\n",
        "for normalisation in normalisations:\n",
        "    model = create_model(normalisation, True, True, 'relu')\n",
        "\n",
        "    define_parameters(model, 64, 5, 'adam', 'categorical_crossentropy')\n",
        "\n",
        "    loss, accuracy = model.evaluate(X_test, y_test, verbose=0)\n",
        "    results.append({'normalisation': normalisation, 'accuracy': accuracy})\n",
        "\n",
        "for result in results:\n",
        "    print(f'{result[\"normalisation\"]}: {result[\"accuracy\"]}')"
      ]
    },
    {
      "cell_type": "markdown",
      "metadata": {
        "id": "86aCp4GQZalo"
      },
      "source": [
        "# Batch size"
      ]
    },
    {
      "cell_type": "code",
      "execution_count": 13,
      "metadata": {
        "colab": {
          "base_uri": "https://localhost:8080/"
        },
        "id": "OEoCkiDYZdWT",
        "outputId": "6f633e66-4d82-4749-e33d-80faccbe300a"
      },
      "outputs": [
        {
          "output_type": "stream",
          "name": "stdout",
          "text": [
            "Epoch 1/5\n",
            "1094/1094 - 51s - loss: 2.3299 - accuracy: 0.3445 - val_loss: 1.6115 - val_accuracy: 0.4777 - lr: 0.0010 - 51s/epoch - 47ms/step\n",
            "Epoch 2/5\n",
            "1094/1094 - 43s - loss: 1.7780 - accuracy: 0.4575 - val_loss: 1.4465 - val_accuracy: 0.5463 - lr: 0.0010 - 43s/epoch - 40ms/step\n",
            "Epoch 3/5\n",
            "1094/1094 - 45s - loss: 1.5316 - accuracy: 0.5308 - val_loss: 1.2465 - val_accuracy: 0.6193 - lr: 0.0010 - 45s/epoch - 41ms/step\n",
            "Epoch 4/5\n",
            "1094/1094 - 44s - loss: 1.3760 - accuracy: 0.5851 - val_loss: 1.2085 - val_accuracy: 0.6496 - lr: 0.0010 - 44s/epoch - 40ms/step\n",
            "Epoch 5/5\n",
            "1094/1094 - 45s - loss: 1.2932 - accuracy: 0.6215 - val_loss: 1.1317 - val_accuracy: 0.6831 - lr: 0.0010 - 45s/epoch - 41ms/step\n",
            "Epoch 1/5\n",
            "547/547 - 45s - loss: 2.3119 - accuracy: 0.3310 - val_loss: 2.0482 - val_accuracy: 0.4270 - lr: 0.0010 - 45s/epoch - 83ms/step\n",
            "Epoch 2/5\n",
            "547/547 - 41s - loss: 1.7790 - accuracy: 0.4556 - val_loss: 1.4505 - val_accuracy: 0.5263 - lr: 0.0010 - 41s/epoch - 74ms/step\n",
            "Epoch 3/5\n",
            "547/547 - 40s - loss: 1.5710 - accuracy: 0.5255 - val_loss: 1.5291 - val_accuracy: 0.5528 - lr: 0.0010 - 40s/epoch - 74ms/step\n",
            "Epoch 4/5\n",
            "547/547 - 41s - loss: 1.4080 - accuracy: 0.5754 - val_loss: 1.2843 - val_accuracy: 0.6116 - lr: 0.0010 - 41s/epoch - 76ms/step\n",
            "Epoch 5/5\n",
            "547/547 - 40s - loss: 1.2949 - accuracy: 0.6108 - val_loss: 1.1878 - val_accuracy: 0.6383 - lr: 0.0010 - 40s/epoch - 73ms/step\n",
            "Epoch 1/5\n",
            "274/274 - 46s - loss: 2.3095 - accuracy: 0.3387 - val_loss: 2.3937 - val_accuracy: 0.2191 - lr: 0.0010 - 46s/epoch - 166ms/step\n",
            "Epoch 2/5\n",
            "274/274 - 40s - loss: 1.7408 - accuracy: 0.4583 - val_loss: 2.0093 - val_accuracy: 0.5363 - lr: 0.0010 - 40s/epoch - 145ms/step\n",
            "Epoch 3/5\n",
            "274/274 - 39s - loss: 1.5813 - accuracy: 0.5170 - val_loss: 1.2774 - val_accuracy: 0.5884 - lr: 0.0010 - 39s/epoch - 144ms/step\n",
            "Epoch 4/5\n",
            "274/274 - 38s - loss: 1.4476 - accuracy: 0.5611 - val_loss: 1.1934 - val_accuracy: 0.6214 - lr: 0.0010 - 38s/epoch - 140ms/step\n",
            "Epoch 5/5\n",
            "274/274 - 40s - loss: 1.3596 - accuracy: 0.5882 - val_loss: 1.2184 - val_accuracy: 0.6207 - lr: 0.0010 - 40s/epoch - 147ms/step\n",
            "32: 0.6787999868392944\n",
            "64: 0.6255999803543091\n",
            "128: 0.6043000221252441\n"
          ]
        }
      ],
      "source": [
        "batches = [32, 64, 128]\n",
        "results = []\n",
        "\n",
        "for batch in batches:\n",
        "    model = create_model(True, True, True, 'relu')\n",
        "\n",
        "    define_parameters(model, batch, 5, 'adam', 'categorical_crossentropy')\n",
        "\n",
        "    loss, accuracy = model.evaluate(X_test, y_test, verbose=0)\n",
        "    results.append({'batch': batch, 'accuracy': accuracy})\n",
        "\n",
        "for result in results:\n",
        "    print(f'{result[\"batch\"]}: {result[\"accuracy\"]}')"
      ]
    },
    {
      "cell_type": "markdown",
      "metadata": {
        "id": "c7llNVALZtov"
      },
      "source": [
        "# Optimizers"
      ]
    },
    {
      "cell_type": "code",
      "execution_count": 14,
      "metadata": {
        "colab": {
          "base_uri": "https://localhost:8080/"
        },
        "id": "NRuaUmkiZuUO",
        "outputId": "62afd475-36d3-4628-e4a7-80f72e2250b5"
      },
      "outputs": [
        {
          "output_type": "stream",
          "name": "stdout",
          "text": [
            "Epoch 1/5\n",
            "547/547 - 47s - loss: 2.3340 - accuracy: 0.3491 - val_loss: 1.6180 - val_accuracy: 0.4850 - lr: 0.0010 - 47s/epoch - 85ms/step\n",
            "Epoch 2/5\n",
            "547/547 - 41s - loss: 1.7114 - accuracy: 0.4727 - val_loss: 1.6198 - val_accuracy: 0.5043 - lr: 0.0010 - 41s/epoch - 74ms/step\n",
            "Epoch 3/5\n",
            "547/547 - 40s - loss: 1.5129 - accuracy: 0.5307 - val_loss: 1.3459 - val_accuracy: 0.5765 - lr: 0.0010 - 40s/epoch - 74ms/step\n",
            "Epoch 4/5\n",
            "547/547 - 41s - loss: 1.3589 - accuracy: 0.5767 - val_loss: 1.3564 - val_accuracy: 0.5978 - lr: 0.0010 - 41s/epoch - 75ms/step\n",
            "Epoch 5/5\n",
            "547/547 - 41s - loss: 1.2710 - accuracy: 0.6147 - val_loss: 1.2221 - val_accuracy: 0.6327 - lr: 0.0010 - 41s/epoch - 75ms/step\n",
            "Epoch 1/5\n",
            "547/547 - 45s - loss: 2.3358 - accuracy: 0.3509 - val_loss: 1.8139 - val_accuracy: 0.4174 - lr: 0.0010 - 45s/epoch - 82ms/step\n",
            "Epoch 2/5\n",
            "547/547 - 39s - loss: 1.7907 - accuracy: 0.4823 - val_loss: 1.4529 - val_accuracy: 0.5724 - lr: 0.0010 - 39s/epoch - 72ms/step\n",
            "Epoch 3/5\n",
            "547/547 - 40s - loss: 1.5390 - accuracy: 0.5604 - val_loss: 1.3062 - val_accuracy: 0.6081 - lr: 0.0010 - 40s/epoch - 73ms/step\n",
            "Epoch 4/5\n",
            "547/547 - 41s - loss: 1.3793 - accuracy: 0.6002 - val_loss: 1.1762 - val_accuracy: 0.6553 - lr: 0.0010 - 41s/epoch - 75ms/step\n",
            "Epoch 5/5\n",
            "547/547 - 39s - loss: 1.2768 - accuracy: 0.6357 - val_loss: 1.2214 - val_accuracy: 0.6707 - lr: 0.0010 - 39s/epoch - 72ms/step\n",
            "Epoch 1/5\n",
            "547/547 - 45s - loss: 2.5223 - accuracy: 0.2916 - val_loss: 1.7700 - val_accuracy: 0.3850 - lr: 0.0010 - 45s/epoch - 82ms/step\n",
            "Epoch 2/5\n",
            "547/547 - 39s - loss: 1.9863 - accuracy: 0.3865 - val_loss: 1.5678 - val_accuracy: 0.4643 - lr: 0.0010 - 39s/epoch - 72ms/step\n",
            "Epoch 3/5\n",
            "547/547 - 39s - loss: 1.8511 - accuracy: 0.4292 - val_loss: 1.5536 - val_accuracy: 0.4695 - lr: 0.0010 - 39s/epoch - 71ms/step\n",
            "Epoch 4/5\n",
            "547/547 - 40s - loss: 1.7735 - accuracy: 0.4636 - val_loss: 1.4929 - val_accuracy: 0.4936 - lr: 0.0010 - 40s/epoch - 73ms/step\n",
            "Epoch 5/5\n",
            "547/547 - 40s - loss: 1.6730 - accuracy: 0.4847 - val_loss: 1.5494 - val_accuracy: 0.5150 - lr: 0.0010 - 40s/epoch - 74ms/step\n",
            "adam: 0.6297000050544739\n",
            "rmsprop: 0.6560999751091003\n",
            "nesterov: 0.508400022983551\n"
          ]
        }
      ],
      "source": [
        "optimizers = {\n",
        "    'adam': tf.keras.optimizers.Adam(learning_rate=0.001),\n",
        "    'rmsprop': tf.keras.optimizers.RMSprop(learning_rate=0.001),\n",
        "    'nesterov': tf.keras.optimizers.SGD(learning_rate=0.001, momentum=0.9, nesterov=True)\n",
        "}\n",
        "results = []\n",
        "\n",
        "for optimizer_name, optimizer in optimizers.items():\n",
        "    model = create_model(True, True, True, 'relu')\n",
        "\n",
        "    define_parameters(model, 64, 5, optimizer, 'categorical_crossentropy')\n",
        "\n",
        "    loss, accuracy = model.evaluate(X_test, y_test, verbose=0)\n",
        "    results.append({'optimizer': optimizer_name, 'accuracy': accuracy})\n",
        "\n",
        "for result in results:\n",
        "    print(f'{result[\"optimizer\"]}: {result[\"accuracy\"]}')"
      ]
    },
    {
      "cell_type": "markdown",
      "metadata": {
        "id": "HHClf6t0azgP"
      },
      "source": [
        "# Loss functions"
      ]
    },
    {
      "cell_type": "code",
      "execution_count": 15,
      "metadata": {
        "colab": {
          "base_uri": "https://localhost:8080/"
        },
        "id": "EAYHfp0taksq",
        "outputId": "9c96ab81-070f-4639-9c47-466690a16f46"
      },
      "outputs": [
        {
          "output_type": "stream",
          "name": "stdout",
          "text": [
            "Epoch 1/5\n",
            "547/547 - 46s - loss: 0.1583 - accuracy: 0.3159 - val_loss: 0.1233 - val_accuracy: 0.4574 - lr: 0.0010 - 46s/epoch - 85ms/step\n",
            "Epoch 2/5\n",
            "547/547 - 40s - loss: 0.1118 - accuracy: 0.4598 - val_loss: 0.0962 - val_accuracy: 0.5338 - lr: 0.0010 - 40s/epoch - 73ms/step\n",
            "Epoch 3/5\n",
            "547/547 - 39s - loss: 0.0933 - accuracy: 0.5077 - val_loss: 0.0910 - val_accuracy: 0.5391 - lr: 0.0010 - 39s/epoch - 72ms/step\n",
            "Epoch 4/5\n",
            "547/547 - 39s - loss: 0.0908 - accuracy: 0.5193 - val_loss: 0.0881 - val_accuracy: 0.5447 - lr: 0.0010 - 39s/epoch - 72ms/step\n",
            "Epoch 5/5\n",
            "547/547 - 40s - loss: 0.0932 - accuracy: 0.5161 - val_loss: 0.0969 - val_accuracy: 0.5612 - lr: 0.0010 - 40s/epoch - 74ms/step\n",
            "Epoch 1/5\n",
            "547/547 - 47s - loss: 0.4032 - accuracy: 0.3516 - val_loss: 0.3208 - val_accuracy: 0.4905 - lr: 0.0010 - 47s/epoch - 85ms/step\n",
            "Epoch 2/5\n",
            "547/547 - 41s - loss: 0.3227 - accuracy: 0.4809 - val_loss: 0.2981 - val_accuracy: 0.5458 - lr: 0.0010 - 41s/epoch - 74ms/step\n",
            "Epoch 3/5\n",
            "547/547 - 39s - loss: 0.2802 - accuracy: 0.5554 - val_loss: 0.2511 - val_accuracy: 0.6104 - lr: 0.0010 - 39s/epoch - 72ms/step\n",
            "Epoch 4/5\n",
            "547/547 - 39s - loss: 0.2508 - accuracy: 0.6051 - val_loss: 0.2180 - val_accuracy: 0.6632 - lr: 0.0010 - 39s/epoch - 72ms/step\n",
            "Epoch 5/5\n",
            "547/547 - 41s - loss: 0.2310 - accuracy: 0.6402 - val_loss: 0.2137 - val_accuracy: 0.6775 - lr: 0.0010 - 41s/epoch - 74ms/step\n",
            "Epoch 1/5\n",
            "547/547 - 47s - loss: 2.3186 - accuracy: 0.3425 - val_loss: 1.7184 - val_accuracy: 0.4221 - lr: 0.0010 - 47s/epoch - 86ms/step\n",
            "Epoch 2/5\n",
            "547/547 - 40s - loss: 1.7997 - accuracy: 0.4573 - val_loss: 1.5979 - val_accuracy: 0.5147 - lr: 0.0010 - 40s/epoch - 74ms/step\n",
            "Epoch 3/5\n",
            "547/547 - 40s - loss: 1.5884 - accuracy: 0.5220 - val_loss: 1.4186 - val_accuracy: 0.5707 - lr: 0.0010 - 40s/epoch - 74ms/step\n",
            "Epoch 4/5\n",
            "547/547 - 40s - loss: 1.4028 - accuracy: 0.5683 - val_loss: 1.0900 - val_accuracy: 0.6633 - lr: 0.0010 - 40s/epoch - 72ms/step\n",
            "Epoch 5/5\n",
            "547/547 - 39s - loss: 1.2918 - accuracy: 0.6055 - val_loss: 1.0589 - val_accuracy: 0.6799 - lr: 0.0010 - 39s/epoch - 71ms/step\n",
            "mean_squared_error: 0.5629000067710876\n",
            "binary_crossentropy: 0.6676999926567078\n",
            "categorical_crossentropy: 0.6657999753952026\n"
          ]
        }
      ],
      "source": [
        "loss_functions = {\n",
        "    'binary_crossentropy',\n",
        "    'categorical_crossentropy',\n",
        "    'mean_squared_error'\n",
        "}\n",
        "\n",
        "results = []\n",
        "\n",
        "for loss_function in loss_functions:\n",
        "    model = create_model(True, True, True, 'relu')\n",
        "\n",
        "    define_parameters(model, 64, 5, 'adam', loss_function)\n",
        "\n",
        "    loss, accuracy = model.evaluate(X_test, y_test, verbose=0)\n",
        "    results.append({'loss_function': loss_function, 'accuracy': accuracy})\n",
        "\n",
        "for result in results:\n",
        "    print(f'{result[\"loss_function\"]}: {result[\"accuracy\"]}')"
      ]
    },
    {
      "cell_type": "markdown",
      "metadata": {
        "id": "qcl01gnTysm-"
      },
      "source": [
        "# Final version"
      ]
    },
    {
      "cell_type": "code",
      "execution_count": 16,
      "metadata": {
        "colab": {
          "base_uri": "https://localhost:8080/"
        },
        "id": "1RBYrsosy_sF",
        "outputId": "bb3d59cc-23d5-40af-cbf6-4bfc4f913c0d"
      },
      "outputs": [
        {
          "output_type": "stream",
          "name": "stdout",
          "text": [
            "Epoch 1/100\n",
            "547/547 - 44s - loss: 0.3281 - accuracy: 0.4508 - val_loss: 0.2487 - val_accuracy: 0.6084 - lr: 0.0010 - 44s/epoch - 81ms/step\n",
            "Epoch 2/100\n",
            "547/547 - 40s - loss: 0.2442 - accuracy: 0.6123 - val_loss: 0.2102 - val_accuracy: 0.6759 - lr: 0.0010 - 40s/epoch - 72ms/step\n",
            "Epoch 3/100\n",
            "547/547 - 39s - loss: 0.2116 - accuracy: 0.6723 - val_loss: 0.1918 - val_accuracy: 0.7126 - lr: 0.0010 - 39s/epoch - 72ms/step\n",
            "Epoch 4/100\n",
            "547/547 - 38s - loss: 0.1902 - accuracy: 0.7117 - val_loss: 0.1881 - val_accuracy: 0.7193 - lr: 0.0010 - 38s/epoch - 70ms/step\n",
            "Epoch 5/100\n",
            "547/547 - 38s - loss: 0.1786 - accuracy: 0.7365 - val_loss: 0.1726 - val_accuracy: 0.7553 - lr: 0.0010 - 38s/epoch - 69ms/step\n",
            "Epoch 6/100\n",
            "547/547 - 38s - loss: 0.1700 - accuracy: 0.7553 - val_loss: 0.1856 - val_accuracy: 0.7385 - lr: 0.0010 - 38s/epoch - 70ms/step\n",
            "Epoch 7/100\n",
            "547/547 - 40s - loss: 0.1660 - accuracy: 0.7660 - val_loss: 0.1566 - val_accuracy: 0.7858 - lr: 0.0010 - 40s/epoch - 74ms/step\n",
            "Epoch 8/100\n",
            "547/547 - 37s - loss: 0.1612 - accuracy: 0.7778 - val_loss: 0.1519 - val_accuracy: 0.8029 - lr: 0.0010 - 37s/epoch - 68ms/step\n",
            "Epoch 9/100\n",
            "547/547 - 38s - loss: 0.1574 - accuracy: 0.7877 - val_loss: 0.1778 - val_accuracy: 0.7605 - lr: 0.0010 - 38s/epoch - 70ms/step\n",
            "Epoch 10/100\n",
            "547/547 - 38s - loss: 0.1554 - accuracy: 0.7936 - val_loss: 0.1634 - val_accuracy: 0.7827 - lr: 0.0010 - 38s/epoch - 70ms/step\n",
            "Epoch 11/100\n",
            "547/547 - 38s - loss: 0.1525 - accuracy: 0.8009 - val_loss: 0.1698 - val_accuracy: 0.7640 - lr: 0.0010 - 38s/epoch - 69ms/step\n",
            "Epoch 12/100\n",
            "547/547 - 38s - loss: 0.1522 - accuracy: 0.8024 - val_loss: 0.1513 - val_accuracy: 0.8146 - lr: 0.0010 - 38s/epoch - 70ms/step\n",
            "Epoch 13/100\n",
            "547/547 - 40s - loss: 0.1503 - accuracy: 0.8102 - val_loss: 0.1435 - val_accuracy: 0.8213 - lr: 0.0010 - 40s/epoch - 74ms/step\n",
            "Epoch 14/100\n",
            "547/547 - 39s - loss: 0.1483 - accuracy: 0.8114 - val_loss: 0.1698 - val_accuracy: 0.7791 - lr: 0.0010 - 39s/epoch - 72ms/step\n",
            "Epoch 15/100\n",
            "547/547 - 39s - loss: 0.1483 - accuracy: 0.8151 - val_loss: 0.1498 - val_accuracy: 0.8151 - lr: 0.0010 - 39s/epoch - 71ms/step\n",
            "Epoch 16/100\n",
            "547/547 - 38s - loss: 0.1470 - accuracy: 0.8202 - val_loss: 0.1395 - val_accuracy: 0.8326 - lr: 0.0010 - 38s/epoch - 70ms/step\n",
            "Epoch 17/100\n",
            "547/547 - 40s - loss: 0.1455 - accuracy: 0.8239 - val_loss: 0.1442 - val_accuracy: 0.8241 - lr: 0.0010 - 40s/epoch - 72ms/step\n",
            "Epoch 18/100\n",
            "547/547 - 40s - loss: 0.1451 - accuracy: 0.8223 - val_loss: 0.1709 - val_accuracy: 0.7875 - lr: 0.0010 - 40s/epoch - 73ms/step\n",
            "Epoch 19/100\n",
            "547/547 - 39s - loss: 0.1443 - accuracy: 0.8239 - val_loss: 0.1507 - val_accuracy: 0.8126 - lr: 0.0010 - 39s/epoch - 71ms/step\n",
            "Epoch 20/100\n",
            "547/547 - 40s - loss: 0.1449 - accuracy: 0.8258 - val_loss: 0.1489 - val_accuracy: 0.8215 - lr: 0.0010 - 40s/epoch - 73ms/step\n",
            "Epoch 21/100\n",
            "547/547 - 40s - loss: 0.1435 - accuracy: 0.8289 - val_loss: 0.1522 - val_accuracy: 0.8176 - lr: 0.0010 - 40s/epoch - 72ms/step\n",
            "Epoch 22/100\n",
            "547/547 - 39s - loss: 0.1416 - accuracy: 0.8337 - val_loss: 0.1508 - val_accuracy: 0.8159 - lr: 0.0010 - 39s/epoch - 72ms/step\n",
            "Epoch 23/100\n",
            "547/547 - 41s - loss: 0.1421 - accuracy: 0.8323 - val_loss: 0.1384 - val_accuracy: 0.8417 - lr: 0.0010 - 41s/epoch - 75ms/step\n",
            "Epoch 24/100\n",
            "547/547 - 38s - loss: 0.1413 - accuracy: 0.8335 - val_loss: 0.1586 - val_accuracy: 0.8023 - lr: 0.0010 - 38s/epoch - 70ms/step\n",
            "Epoch 25/100\n",
            "547/547 - 39s - loss: 0.1400 - accuracy: 0.8352 - val_loss: 0.1436 - val_accuracy: 0.8335 - lr: 0.0010 - 39s/epoch - 72ms/step\n",
            "Epoch 26/100\n",
            "547/547 - 39s - loss: 0.1396 - accuracy: 0.8374 - val_loss: 0.1410 - val_accuracy: 0.8365 - lr: 0.0010 - 39s/epoch - 72ms/step\n",
            "Epoch 27/100\n",
            "547/547 - 38s - loss: 0.1397 - accuracy: 0.8349 - val_loss: 0.1599 - val_accuracy: 0.8030 - lr: 0.0010 - 38s/epoch - 69ms/step\n",
            "Epoch 28/100\n",
            "547/547 - 38s - loss: 0.1386 - accuracy: 0.8383 - val_loss: 0.1440 - val_accuracy: 0.8287 - lr: 0.0010 - 38s/epoch - 70ms/step\n",
            "Epoch 29/100\n",
            "547/547 - 39s - loss: 0.1382 - accuracy: 0.8388 - val_loss: 0.1802 - val_accuracy: 0.7894 - lr: 0.0010 - 39s/epoch - 71ms/step\n",
            "Epoch 30/100\n",
            "547/547 - 39s - loss: 0.1374 - accuracy: 0.8410 - val_loss: 0.1350 - val_accuracy: 0.8455 - lr: 0.0010 - 39s/epoch - 71ms/step\n",
            "Epoch 31/100\n",
            "547/547 - 38s - loss: 0.1363 - accuracy: 0.8445 - val_loss: 0.1364 - val_accuracy: 0.8437 - lr: 0.0010 - 38s/epoch - 69ms/step\n",
            "Epoch 32/100\n",
            "547/547 - 39s - loss: 0.1368 - accuracy: 0.8425 - val_loss: 0.1672 - val_accuracy: 0.7965 - lr: 0.0010 - 39s/epoch - 72ms/step\n",
            "Epoch 33/100\n",
            "547/547 - 39s - loss: 0.1365 - accuracy: 0.8401 - val_loss: 0.1564 - val_accuracy: 0.8143 - lr: 0.0010 - 39s/epoch - 72ms/step\n",
            "Epoch 34/100\n",
            "547/547 - 38s - loss: 0.1348 - accuracy: 0.8440 - val_loss: 0.1645 - val_accuracy: 0.8060 - lr: 0.0010 - 38s/epoch - 69ms/step\n",
            "Epoch 35/100\n",
            "547/547 - 39s - loss: 0.1359 - accuracy: 0.8425 - val_loss: 0.1418 - val_accuracy: 0.8363 - lr: 0.0010 - 39s/epoch - 72ms/step\n",
            "Epoch 36/100\n",
            "547/547 - 38s - loss: 0.1351 - accuracy: 0.8453 - val_loss: 0.1385 - val_accuracy: 0.8424 - lr: 0.0010 - 38s/epoch - 70ms/step\n",
            "Epoch 37/100\n",
            "547/547 - 38s - loss: 0.1353 - accuracy: 0.8470 - val_loss: 0.1334 - val_accuracy: 0.8518 - lr: 0.0010 - 38s/epoch - 70ms/step\n",
            "Epoch 38/100\n",
            "547/547 - 39s - loss: 0.1350 - accuracy: 0.8450 - val_loss: 0.1432 - val_accuracy: 0.8365 - lr: 0.0010 - 39s/epoch - 71ms/step\n",
            "Epoch 39/100\n",
            "547/547 - 38s - loss: 0.1343 - accuracy: 0.8472 - val_loss: 0.1506 - val_accuracy: 0.8247 - lr: 0.0010 - 38s/epoch - 69ms/step\n",
            "Epoch 40/100\n",
            "547/547 - 39s - loss: 0.1331 - accuracy: 0.8487 - val_loss: 0.1368 - val_accuracy: 0.8455 - lr: 0.0010 - 39s/epoch - 72ms/step\n",
            "Epoch 41/100\n",
            "547/547 - 39s - loss: 0.1339 - accuracy: 0.8466 - val_loss: 0.1472 - val_accuracy: 0.8252 - lr: 0.0010 - 39s/epoch - 70ms/step\n",
            "Epoch 42/100\n",
            "547/547 - 39s - loss: 0.1344 - accuracy: 0.8457 - val_loss: 0.1516 - val_accuracy: 0.8195 - lr: 0.0010 - 39s/epoch - 71ms/step\n",
            "Epoch 43/100\n",
            "547/547 - 38s - loss: 0.1328 - accuracy: 0.8505 - val_loss: 0.1438 - val_accuracy: 0.8325 - lr: 0.0010 - 38s/epoch - 69ms/step\n",
            "Epoch 44/100\n",
            "547/547 - 39s - loss: 0.1332 - accuracy: 0.8489 - val_loss: 0.1529 - val_accuracy: 0.8177 - lr: 0.0010 - 39s/epoch - 71ms/step\n",
            "Epoch 45/100\n",
            "547/547 - 38s - loss: 0.1329 - accuracy: 0.8503 - val_loss: 0.1298 - val_accuracy: 0.8547 - lr: 0.0010 - 38s/epoch - 70ms/step\n",
            "Epoch 46/100\n",
            "547/547 - 40s - loss: 0.1318 - accuracy: 0.8511 - val_loss: 0.1522 - val_accuracy: 0.8249 - lr: 0.0010 - 40s/epoch - 73ms/step\n",
            "Epoch 47/100\n",
            "547/547 - 39s - loss: 0.1313 - accuracy: 0.8517 - val_loss: 0.1404 - val_accuracy: 0.8343 - lr: 0.0010 - 39s/epoch - 72ms/step\n",
            "Epoch 48/100\n",
            "547/547 - 39s - loss: 0.1325 - accuracy: 0.8508 - val_loss: 0.1364 - val_accuracy: 0.8473 - lr: 0.0010 - 39s/epoch - 72ms/step\n",
            "Epoch 49/100\n",
            "547/547 - 38s - loss: 0.1308 - accuracy: 0.8521 - val_loss: 0.1343 - val_accuracy: 0.8473 - lr: 0.0010 - 38s/epoch - 70ms/step\n",
            "Epoch 50/100\n",
            "547/547 - 38s - loss: 0.1314 - accuracy: 0.8519 - val_loss: 0.1438 - val_accuracy: 0.8287 - lr: 0.0010 - 38s/epoch - 70ms/step\n",
            "Epoch 51/100\n",
            "547/547 - 39s - loss: 0.1317 - accuracy: 0.8496 - val_loss: 0.1368 - val_accuracy: 0.8439 - lr: 0.0010 - 39s/epoch - 72ms/step\n",
            "Epoch 52/100\n",
            "547/547 - 40s - loss: 0.1314 - accuracy: 0.8526 - val_loss: 0.1342 - val_accuracy: 0.8457 - lr: 0.0010 - 40s/epoch - 73ms/step\n",
            "Epoch 53/100\n",
            "547/547 - 38s - loss: 0.1311 - accuracy: 0.8532 - val_loss: 0.1341 - val_accuracy: 0.8469 - lr: 0.0010 - 38s/epoch - 70ms/step\n",
            "Epoch 54/100\n",
            "547/547 - 38s - loss: 0.1317 - accuracy: 0.8514 - val_loss: 0.1577 - val_accuracy: 0.8075 - lr: 0.0010 - 38s/epoch - 69ms/step\n",
            "Epoch 55/100\n",
            "547/547 - 38s - loss: 0.1299 - accuracy: 0.8563 - val_loss: 0.1352 - val_accuracy: 0.8465 - lr: 0.0010 - 38s/epoch - 70ms/step\n",
            "Epoch 56/100\n",
            "547/547 - 38s - loss: 0.1144 - accuracy: 0.8830 - val_loss: 0.1131 - val_accuracy: 0.8831 - lr: 5.0000e-04 - 38s/epoch - 69ms/step\n",
            "Epoch 57/100\n",
            "547/547 - 38s - loss: 0.1071 - accuracy: 0.8915 - val_loss: 0.1275 - val_accuracy: 0.8533 - lr: 5.0000e-04 - 38s/epoch - 69ms/step\n",
            "Epoch 58/100\n",
            "547/547 - 40s - loss: 0.1045 - accuracy: 0.8934 - val_loss: 0.1160 - val_accuracy: 0.8719 - lr: 5.0000e-04 - 40s/epoch - 73ms/step\n",
            "Epoch 59/100\n",
            "547/547 - 39s - loss: 0.1023 - accuracy: 0.8923 - val_loss: 0.1122 - val_accuracy: 0.8789 - lr: 5.0000e-04 - 39s/epoch - 71ms/step\n",
            "Epoch 60/100\n",
            "547/547 - 39s - loss: 0.0999 - accuracy: 0.8965 - val_loss: 0.1098 - val_accuracy: 0.8761 - lr: 5.0000e-04 - 39s/epoch - 71ms/step\n",
            "Epoch 61/100\n",
            "547/547 - 38s - loss: 0.0993 - accuracy: 0.8942 - val_loss: 0.1212 - val_accuracy: 0.8608 - lr: 5.0000e-04 - 38s/epoch - 70ms/step\n",
            "Epoch 62/100\n",
            "547/547 - 37s - loss: 0.0978 - accuracy: 0.8973 - val_loss: 0.1080 - val_accuracy: 0.8779 - lr: 5.0000e-04 - 37s/epoch - 69ms/step\n",
            "Epoch 63/100\n",
            "547/547 - 38s - loss: 0.0975 - accuracy: 0.8964 - val_loss: 0.1244 - val_accuracy: 0.8615 - lr: 5.0000e-04 - 38s/epoch - 69ms/step\n",
            "Epoch 64/100\n",
            "547/547 - 39s - loss: 0.0965 - accuracy: 0.8992 - val_loss: 0.1097 - val_accuracy: 0.8781 - lr: 5.0000e-04 - 39s/epoch - 70ms/step\n",
            "Epoch 65/100\n",
            "547/547 - 37s - loss: 0.0965 - accuracy: 0.8972 - val_loss: 0.1127 - val_accuracy: 0.8669 - lr: 5.0000e-04 - 37s/epoch - 68ms/step\n",
            "Epoch 66/100\n",
            "547/547 - 37s - loss: 0.0961 - accuracy: 0.8985 - val_loss: 0.1090 - val_accuracy: 0.8750 - lr: 5.0000e-04 - 37s/epoch - 68ms/step\n",
            "Epoch 67/100\n",
            "547/547 - 36s - loss: 0.0958 - accuracy: 0.8986 - val_loss: 0.1127 - val_accuracy: 0.8729 - lr: 5.0000e-04 - 36s/epoch - 66ms/step\n",
            "Epoch 68/100\n",
            "547/547 - 37s - loss: 0.0949 - accuracy: 0.8995 - val_loss: 0.1123 - val_accuracy: 0.8672 - lr: 5.0000e-04 - 37s/epoch - 67ms/step\n",
            "Epoch 69/100\n",
            "547/547 - 38s - loss: 0.0944 - accuracy: 0.8987 - val_loss: 0.1080 - val_accuracy: 0.8803 - lr: 5.0000e-04 - 38s/epoch - 69ms/step\n",
            "Epoch 70/100\n",
            "547/547 - 37s - loss: 0.0956 - accuracy: 0.8973 - val_loss: 0.1158 - val_accuracy: 0.8663 - lr: 5.0000e-04 - 37s/epoch - 67ms/step\n",
            "Epoch 71/100\n",
            "547/547 - 38s - loss: 0.0953 - accuracy: 0.8971 - val_loss: 0.1035 - val_accuracy: 0.8859 - lr: 5.0000e-04 - 38s/epoch - 69ms/step\n",
            "Epoch 72/100\n",
            "547/547 - 37s - loss: 0.0953 - accuracy: 0.8989 - val_loss: 0.1130 - val_accuracy: 0.8735 - lr: 5.0000e-04 - 37s/epoch - 68ms/step\n",
            "Epoch 73/100\n",
            "547/547 - 37s - loss: 0.0940 - accuracy: 0.9009 - val_loss: 0.1257 - val_accuracy: 0.8517 - lr: 5.0000e-04 - 37s/epoch - 67ms/step\n",
            "Epoch 74/100\n",
            "547/547 - 37s - loss: 0.0947 - accuracy: 0.8997 - val_loss: 0.1118 - val_accuracy: 0.8720 - lr: 5.0000e-04 - 37s/epoch - 68ms/step\n",
            "Epoch 75/100\n",
            "547/547 - 37s - loss: 0.0948 - accuracy: 0.8983 - val_loss: 0.1059 - val_accuracy: 0.8815 - lr: 5.0000e-04 - 37s/epoch - 68ms/step\n",
            "Epoch 76/100\n",
            "547/547 - 39s - loss: 0.0944 - accuracy: 0.9016 - val_loss: 0.1155 - val_accuracy: 0.8698 - lr: 5.0000e-04 - 39s/epoch - 71ms/step\n",
            "Epoch 77/100\n",
            "547/547 - 37s - loss: 0.0940 - accuracy: 0.9017 - val_loss: 0.1113 - val_accuracy: 0.8759 - lr: 5.0000e-04 - 37s/epoch - 68ms/step\n",
            "Epoch 78/100\n",
            "547/547 - 38s - loss: 0.0939 - accuracy: 0.9011 - val_loss: 0.1111 - val_accuracy: 0.8752 - lr: 5.0000e-04 - 38s/epoch - 69ms/step\n",
            "Epoch 79/100\n",
            "547/547 - 38s - loss: 0.0943 - accuracy: 0.9008 - val_loss: 0.1179 - val_accuracy: 0.8625 - lr: 5.0000e-04 - 38s/epoch - 69ms/step\n",
            "Epoch 80/100\n",
            "547/547 - 38s - loss: 0.0939 - accuracy: 0.9028 - val_loss: 0.1148 - val_accuracy: 0.8717 - lr: 5.0000e-04 - 38s/epoch - 69ms/step\n",
            "Epoch 81/100\n",
            "547/547 - 37s - loss: 0.0941 - accuracy: 0.9019 - val_loss: 0.1090 - val_accuracy: 0.8767 - lr: 5.0000e-04 - 37s/epoch - 67ms/step\n",
            "Epoch 82/100\n",
            "547/547 - 39s - loss: 0.0840 - accuracy: 0.9208 - val_loss: 0.0996 - val_accuracy: 0.8955 - lr: 2.5000e-04 - 39s/epoch - 71ms/step\n",
            "Epoch 83/100\n",
            "547/547 - 37s - loss: 0.0798 - accuracy: 0.9247 - val_loss: 0.1061 - val_accuracy: 0.8853 - lr: 2.5000e-04 - 37s/epoch - 67ms/step\n",
            "Epoch 84/100\n",
            "547/547 - 38s - loss: 0.0769 - accuracy: 0.9288 - val_loss: 0.0958 - val_accuracy: 0.8993 - lr: 2.5000e-04 - 38s/epoch - 69ms/step\n",
            "Epoch 85/100\n",
            "547/547 - 37s - loss: 0.0753 - accuracy: 0.9316 - val_loss: 0.1099 - val_accuracy: 0.8790 - lr: 2.5000e-04 - 37s/epoch - 67ms/step\n",
            "Epoch 86/100\n",
            "547/547 - 37s - loss: 0.0746 - accuracy: 0.9297 - val_loss: 0.1047 - val_accuracy: 0.8879 - lr: 2.5000e-04 - 37s/epoch - 67ms/step\n",
            "Epoch 87/100\n",
            "547/547 - 37s - loss: 0.0732 - accuracy: 0.9312 - val_loss: 0.0960 - val_accuracy: 0.8950 - lr: 2.5000e-04 - 37s/epoch - 68ms/step\n",
            "Epoch 88/100\n",
            "547/547 - 37s - loss: 0.0720 - accuracy: 0.9337 - val_loss: 0.1020 - val_accuracy: 0.8886 - lr: 2.5000e-04 - 37s/epoch - 67ms/step\n",
            "Epoch 89/100\n",
            "547/547 - 38s - loss: 0.0719 - accuracy: 0.9344 - val_loss: 0.0984 - val_accuracy: 0.8949 - lr: 2.5000e-04 - 38s/epoch - 69ms/step\n",
            "Epoch 90/100\n",
            "547/547 - 38s - loss: 0.0708 - accuracy: 0.9339 - val_loss: 0.0972 - val_accuracy: 0.8966 - lr: 2.5000e-04 - 38s/epoch - 69ms/step\n",
            "Epoch 91/100\n",
            "547/547 - 37s - loss: 0.0709 - accuracy: 0.9340 - val_loss: 0.1022 - val_accuracy: 0.8889 - lr: 2.5000e-04 - 37s/epoch - 68ms/step\n",
            "Epoch 92/100\n",
            "547/547 - 38s - loss: 0.0701 - accuracy: 0.9349 - val_loss: 0.0973 - val_accuracy: 0.8953 - lr: 2.5000e-04 - 38s/epoch - 69ms/step\n",
            "Epoch 93/100\n",
            "547/547 - 38s - loss: 0.0701 - accuracy: 0.9336 - val_loss: 0.0948 - val_accuracy: 0.8945 - lr: 2.5000e-04 - 38s/epoch - 69ms/step\n",
            "Epoch 94/100\n",
            "547/547 - 37s - loss: 0.0682 - accuracy: 0.9376 - val_loss: 0.1054 - val_accuracy: 0.8833 - lr: 2.5000e-04 - 37s/epoch - 68ms/step\n",
            "Epoch 95/100\n",
            "547/547 - 38s - loss: 0.0701 - accuracy: 0.9330 - val_loss: 0.1003 - val_accuracy: 0.8902 - lr: 2.5000e-04 - 38s/epoch - 70ms/step\n",
            "Epoch 96/100\n",
            "547/547 - 38s - loss: 0.0684 - accuracy: 0.9362 - val_loss: 0.0967 - val_accuracy: 0.8901 - lr: 2.5000e-04 - 38s/epoch - 69ms/step\n",
            "Epoch 97/100\n",
            "547/547 - 38s - loss: 0.0683 - accuracy: 0.9362 - val_loss: 0.1010 - val_accuracy: 0.8917 - lr: 2.5000e-04 - 38s/epoch - 69ms/step\n",
            "Epoch 98/100\n",
            "547/547 - 38s - loss: 0.0685 - accuracy: 0.9350 - val_loss: 0.0922 - val_accuracy: 0.9005 - lr: 2.5000e-04 - 38s/epoch - 69ms/step\n",
            "Epoch 99/100\n",
            "547/547 - 37s - loss: 0.0680 - accuracy: 0.9359 - val_loss: 0.0989 - val_accuracy: 0.8873 - lr: 2.5000e-04 - 37s/epoch - 68ms/step\n",
            "Epoch 100/100\n",
            "547/547 - 36s - loss: 0.0681 - accuracy: 0.9360 - val_loss: 0.0928 - val_accuracy: 0.8971 - lr: 2.5000e-04 - 36s/epoch - 66ms/step\n"
          ]
        }
      ],
      "source": [
        "model = create_model(True, False, True, 'relu')\n",
        "\n",
        "define_parameters(model, 64, 100, tf.keras.optimizers.RMSprop(learning_rate=0.001), 'binary_crossentropy')"
      ]
    },
    {
      "cell_type": "code",
      "execution_count": 17,
      "metadata": {
        "colab": {
          "base_uri": "https://localhost:8080/",
          "height": 545
        },
        "id": "Foj2PsjEbEEi",
        "outputId": "c5072751-9f87-49f3-d67b-682a5812bc85"
      },
      "outputs": [
        {
          "output_type": "display_data",
          "data": {
            "text/plain": [
              "<Figure size 1500x600 with 2 Axes>"
            ],
            "image/png": "[encoded data removed]"
          },
          "metadata": {}
        }
      ],
      "source": [
        "plt.figure(figsize=(15,6))\n",
        "\n",
        "plt.subplot(1, 2, 1)\n",
        "plt.plot(model.history.history['loss'], label='Train Loss', color='#8502d1')\n",
        "plt.plot(model.history.history['val_loss'], label='Validation Loss', color='darkorange')\n",
        "plt.legend()\n",
        "plt.title('Loss Evolution')\n",
        "\n",
        "plt.subplot(1, 2, 2)\n",
        "plt.plot(model.history.history['accuracy'], label='Train Accuracy', color='#8502d1')\n",
        "plt.plot(model.history.history['val_accuracy'], label='Validation Accuracy', color='darkorange')\n",
        "plt.legend()\n",
        "plt.title('Accuracy Evolution')\n",
        "\n",
        "plt.show()"
      ]
    },
    {
      "cell_type": "code",
      "execution_count": 18,
      "metadata": {
        "colab": {
          "base_uri": "https://localhost:8080/"
        },
        "id": "spQlP-PSy5c8",
        "outputId": "04bdc6fd-e0a3-42cd-9c96-eccfcfd6f6d2"
      },
      "outputs": [
        {
          "output_type": "stream",
          "name": "stdout",
          "text": [
            "313/313 [==============================] - 1s 4ms/step - loss: 0.0947 - accuracy: 0.8945\n",
            "\n",
            "Test Accuracy: 0.8945000171661377\n",
            "Test Loss:     0.09469038993120193\n"
          ]
        }
      ],
      "source": [
        "test_loss, test_acc = model.evaluate(X_test, y_test, verbose=1)\n",
        "\n",
        "print('\\nTest Accuracy:', test_acc)\n",
        "print('Test Loss:    ', test_loss)"
      ]
    }
  ],
  "metadata": {
    "accelerator": "GPU",
    "colab": {
      "provenance": [],
      "gpuType": "T4"
    },
    "kernelspec": {
      "display_name": "Python 3",
      "name": "python3"
    },
    "language_info": {
      "name": "python"
    }
  },
  "nbformat": 4,
  "nbformat_minor": 0
}